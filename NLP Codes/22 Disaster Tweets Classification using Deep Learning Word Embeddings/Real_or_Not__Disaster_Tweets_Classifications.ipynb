{
  "cells": [
    {
      "attachments": {},
      "cell_type": "markdown",
      "metadata": {},
      "source": [
        "___\n",
        "<a href='http://www.kgptalkie.com'><img src='../kgptalkie_strips.png'/></a>\n",
        "___\n",
        "\n",
        "<center><em>Copyright by KGPTalkie</em></center>\n",
        "<center><em>For free ML tutorials, visit us at <a href='http://www.kgptalkie.com'>www.kgptalkie.com</a> and <a href='http://www.youtube.com/kgptalkie'>www.youtube.com/kgptalkie</a> </em></center>"
      ]
    },
    {
      "cell_type": "markdown",
      "metadata": {
        "colab_type": "text",
        "id": "7d0aDoKU8wn2"
      },
      "source": [
        "# Real or Not? Disaster Tweets Classifications"
      ]
    },
    {
      "cell_type": "code",
      "execution_count": null,
      "metadata": {
        "colab": {
          "base_uri": "https://localhost:8080/",
          "height": 72
        },
        "colab_type": "code",
        "id": "dXIhnaXL8JGg",
        "outputId": "b6b8e945-21d5-4c0e-991b-269670fa7967",
        "vscode": {
          "languageId": "python"
        }
      },
      "outputs": [],
      "source": [
        "import pandas as pd\n",
        "import numpy as np\n",
        "\n",
        "import re\n",
        "import string\n",
        "import os\n",
        "\n",
        "import matplotlib.pyplot as plt\n",
        "import seaborn as sns\n",
        "\n",
        "from wordcloud import WordCloud\n",
        "\n",
        "from sklearn.feature_extraction.text import CountVectorizer, TfidfVectorizer\n",
        "from sklearn.model_selection import train_test_split\n",
        "from sklearn.metrics import classification_report,confusion_matrix\n",
        "\n",
        "plt.style.use('ggplot')\n",
        "\n",
        "from tensorflow.keras.preprocessing.text import Tokenizer\n",
        "from tensorflow.keras.preprocessing.sequence import pad_sequences\n",
        "from tensorflow.keras.models import Sequential\n",
        "from tensorflow.keras.layers import Embedding, LSTM,Dense, SpatialDropout1D, Dropout\n",
        "from tensorflow.keras.optimizers import Adam"
      ]
    },
    {
      "cell_type": "markdown",
      "metadata": {
        "colab_type": "text",
        "id": "ucZzNz61PXS0"
      },
      "source": [
        "# Download Data"
      ]
    },
    {
      "cell_type": "code",
      "execution_count": null,
      "metadata": {
        "colab": {},
        "colab_type": "code",
        "id": "z6lPt5eI8yAL",
        "vscode": {
          "languageId": "python"
        }
      },
      "outputs": [],
      "source": [
        "tweet = pd.read_csv('https://raw.githubusercontent.com/laxmimerit/twitter-disaster-prediction-dataset/master/train.csv')"
      ]
    },
    {
      "cell_type": "code",
      "execution_count": null,
      "metadata": {
        "colab": {
          "base_uri": "https://localhost:8080/",
          "height": 203
        },
        "colab_type": "code",
        "id": "ge5pEw_QJfjR",
        "outputId": "a766f918-b2b9-46c6-b993-1b5962e34abb",
        "vscode": {
          "languageId": "python"
        }
      },
      "outputs": [],
      "source": [
        "tweet.head()"
      ]
    },
    {
      "cell_type": "code",
      "execution_count": null,
      "metadata": {
        "colab": {
          "base_uri": "https://localhost:8080/",
          "height": 34
        },
        "colab_type": "code",
        "id": "39_uKZUjJftS",
        "outputId": "208c845b-2941-44d2-e253-1acd9ce4d4dd",
        "vscode": {
          "languageId": "python"
        }
      },
      "outputs": [],
      "source": [
        "tweet.shape"
      ]
    },
    {
      "cell_type": "code",
      "execution_count": null,
      "metadata": {
        "colab": {
          "base_uri": "https://localhost:8080/",
          "height": 228
        },
        "colab_type": "code",
        "id": "C9fEdw_VJf0V",
        "outputId": "08f930e0-fe00-4b3b-8e6a-42b8db098325",
        "vscode": {
          "languageId": "python"
        }
      },
      "outputs": [],
      "source": [
        "tweet.info()"
      ]
    },
    {
      "cell_type": "markdown",
      "metadata": {
        "colab_type": "text",
        "id": "l_R_XBpbQ7Pi"
      },
      "source": [
        "# Exploratory Data Analysis"
      ]
    },
    {
      "cell_type": "markdown",
      "metadata": {
        "colab_type": "text",
        "id": "I546G72XRhn5"
      },
      "source": [
        "### Target Class Distribution"
      ]
    },
    {
      "cell_type": "code",
      "execution_count": null,
      "metadata": {
        "colab": {},
        "colab_type": "code",
        "id": "GdRVkivgJf6I",
        "vscode": {
          "languageId": "python"
        }
      },
      "outputs": [],
      "source": [
        "plt.rcParams['figure.figsize'] = [8,4]\n",
        "plt.rcParams['figure.dpi'] = 80"
      ]
    },
    {
      "cell_type": "code",
      "execution_count": null,
      "metadata": {
        "colab": {
          "base_uri": "https://localhost:8080/",
          "height": 345
        },
        "colab_type": "code",
        "id": "_PufZAV1Jf_j",
        "outputId": "53a39e35-8033-4aeb-e022-def77ac99e11",
        "vscode": {
          "languageId": "python"
        }
      },
      "outputs": [],
      "source": [
        "sns.countplot('target', data=tweet)\n",
        "plt.title('Real or Not Real Disaster Tweet')"
      ]
    },
    {
      "cell_type": "code",
      "execution_count": null,
      "metadata": {
        "colab": {
          "base_uri": "https://localhost:8080/",
          "height": 70
        },
        "colab_type": "code",
        "id": "v5F6PYBXJgvT",
        "outputId": "754a4bc7-7fee-46aa-d6d2-e7a2e8e54907",
        "vscode": {
          "languageId": "python"
        }
      },
      "outputs": [],
      "source": [
        "tweet['target'].value_counts()"
      ]
    },
    {
      "cell_type": "code",
      "execution_count": null,
      "metadata": {
        "colab": {
          "base_uri": "https://localhost:8080/",
          "height": 292
        },
        "colab_type": "code",
        "id": "_N3a0OddJg1y",
        "outputId": "256961c1-5479-4c52-9111-34cacc9c757d",
        "vscode": {
          "languageId": "python"
        }
      },
      "outputs": [],
      "source": [
        "tweet['target'].value_counts().plot.pie(autopct='%1.2f%%')"
      ]
    },
    {
      "cell_type": "markdown",
      "metadata": {
        "colab_type": "text",
        "id": "Uj2bQcBkS5yM"
      },
      "source": [
        "### Number of Characters Distribution in Tweets"
      ]
    },
    {
      "cell_type": "code",
      "execution_count": null,
      "metadata": {
        "colab": {
          "base_uri": "https://localhost:8080/",
          "height": 213
        },
        "colab_type": "code",
        "id": "FUQVOgVkJg6a",
        "outputId": "e9463f48-c3d7-4d55-fe6e-ac59be4e5714",
        "vscode": {
          "languageId": "python"
        }
      },
      "outputs": [],
      "source": [
        "!pip install git+https://github.com/laxmimerit/preprocess_kgptalkie.git"
      ]
    },
    {
      "cell_type": "code",
      "execution_count": null,
      "metadata": {
        "colab": {},
        "colab_type": "code",
        "id": "Nj-SIeltJg-1",
        "vscode": {
          "languageId": "python"
        }
      },
      "outputs": [],
      "source": [
        "import preprocess_kgptalkie as kgp"
      ]
    },
    {
      "cell_type": "code",
      "execution_count": null,
      "metadata": {
        "colab": {},
        "colab_type": "code",
        "id": "F_3zIUkwJhC_",
        "vscode": {
          "languageId": "python"
        }
      },
      "outputs": [],
      "source": [
        "tweet = kgp.get_basic_features(tweet)"
      ]
    },
    {
      "cell_type": "code",
      "execution_count": null,
      "metadata": {
        "colab": {
          "base_uri": "https://localhost:8080/",
          "height": 581
        },
        "colab_type": "code",
        "id": "tFzja9qQJhHK",
        "outputId": "716626de-5712-4e45-ca95-61fbe56e84c8",
        "vscode": {
          "languageId": "python"
        }
      },
      "outputs": [],
      "source": [
        "tweet.head()"
      ]
    },
    {
      "cell_type": "code",
      "execution_count": null,
      "metadata": {
        "colab": {
          "base_uri": "https://localhost:8080/",
          "height": 326
        },
        "colab_type": "code",
        "id": "EAVYCcwiJhL1",
        "outputId": "f4b31bf6-d677-4c75-af63-3fe5e320910b",
        "vscode": {
          "languageId": "python"
        }
      },
      "outputs": [],
      "source": [
        "sns.distplot(tweet['char_counts'])"
      ]
    },
    {
      "cell_type": "code",
      "execution_count": null,
      "metadata": {
        "colab": {
          "base_uri": "https://localhost:8080/",
          "height": 310
        },
        "colab_type": "code",
        "id": "NYb0iiMoJh9A",
        "outputId": "421d66a6-592d-4168-a1d3-56a7bc9b7125",
        "vscode": {
          "languageId": "python"
        }
      },
      "outputs": [],
      "source": [
        "sns.kdeplot(tweet['char_counts'], shade=True)"
      ]
    },
    {
      "cell_type": "code",
      "execution_count": null,
      "metadata": {
        "colab": {
          "base_uri": "https://localhost:8080/",
          "height": 310
        },
        "colab_type": "code",
        "id": "7BtkkhBrJiDD",
        "outputId": "96da0bee-9d51-477e-89c2-277a93f6efb0",
        "vscode": {
          "languageId": "python"
        }
      },
      "outputs": [],
      "source": [
        "sns.kdeplot(tweet[tweet['target']==1]['char_counts'], shade=True, color='red')\n",
        "sns.kdeplot(tweet[tweet['target']==0]['char_counts'], shade=True, color='blue')"
      ]
    },
    {
      "cell_type": "code",
      "execution_count": null,
      "metadata": {
        "colab": {
          "base_uri": "https://localhost:8080/",
          "height": 426
        },
        "colab_type": "code",
        "id": "n_eenJT9JiHT",
        "outputId": "67b03296-bdd5-41f7-fb16-3b5c2652192b",
        "vscode": {
          "languageId": "python"
        }
      },
      "outputs": [],
      "source": [
        "sns.catplot(y='char_counts', data=tweet, kind='violin', col='target')"
      ]
    },
    {
      "cell_type": "markdown",
      "metadata": {
        "colab_type": "text",
        "id": "Be3-9UTJXOUD"
      },
      "source": [
        "### Number of Words, Average Words Length, and Stop words Distribution in Tweets"
      ]
    },
    {
      "cell_type": "code",
      "execution_count": null,
      "metadata": {
        "colab": {
          "base_uri": "https://localhost:8080/",
          "height": 310
        },
        "colab_type": "code",
        "id": "te2F5uOlXXr3",
        "outputId": "0a0f5ac3-2f93-4ccb-e355-2e38ff38fc92",
        "vscode": {
          "languageId": "python"
        }
      },
      "outputs": [],
      "source": [
        "sns.kdeplot(tweet[tweet['target']==1]['word_counts'], shade=True, color='red')\n",
        "sns.kdeplot(tweet[tweet['target']==0]['word_counts'], shade=True, color='magenta')\n"
      ]
    },
    {
      "cell_type": "code",
      "execution_count": null,
      "metadata": {
        "colab": {
          "base_uri": "https://localhost:8080/",
          "height": 310
        },
        "colab_type": "code",
        "id": "MMeJtnG6XXwE",
        "outputId": "86f09a5f-0ef3-43c5-9956-f923e3d11bb9",
        "vscode": {
          "languageId": "python"
        }
      },
      "outputs": [],
      "source": [
        "sns.kdeplot(tweet[tweet['target']==1]['avg_wordlength'], shade=True, color='red')\n",
        "sns.kdeplot(tweet[tweet['target']==0]['avg_wordlength'], shade=True, color='magenta')\n"
      ]
    },
    {
      "cell_type": "code",
      "execution_count": null,
      "metadata": {
        "colab": {
          "base_uri": "https://localhost:8080/",
          "height": 310
        },
        "colab_type": "code",
        "id": "esKNLjhyXX3D",
        "outputId": "c5280727-e069-40de-ef77-77d8e50fb791",
        "vscode": {
          "languageId": "python"
        }
      },
      "outputs": [],
      "source": [
        "sns.kdeplot(tweet[tweet['target']==1]['stopwords_counts'], shade=True, color='red')\n",
        "sns.kdeplot(tweet[tweet['target']==0]['stopwords_counts'], shade=True, color='magenta')\n"
      ]
    },
    {
      "cell_type": "code",
      "execution_count": null,
      "metadata": {
        "colab": {
          "base_uri": "https://localhost:8080/",
          "height": 87
        },
        "colab_type": "code",
        "id": "ek41f4vEXX9z",
        "outputId": "b8b42a1d-bdb5-4f67-f083-6b2726aac898",
        "vscode": {
          "languageId": "python"
        }
      },
      "outputs": [],
      "source": [
        "tweet.columns"
      ]
    },
    {
      "cell_type": "markdown",
      "metadata": {
        "colab_type": "text",
        "id": "oZCDWBnmhZhW"
      },
      "source": [
        "### Most and Least Common Words"
      ]
    },
    {
      "cell_type": "code",
      "execution_count": null,
      "metadata": {
        "colab": {},
        "colab_type": "code",
        "id": "7_J8MuobXYCl",
        "vscode": {
          "languageId": "python"
        }
      },
      "outputs": [],
      "source": [
        "freqs = kgp.get_word_freqs(tweet, 'text')"
      ]
    },
    {
      "cell_type": "code",
      "execution_count": null,
      "metadata": {
        "colab": {},
        "colab_type": "code",
        "id": "sAgs8OZYXYZf",
        "vscode": {
          "languageId": "python"
        }
      },
      "outputs": [],
      "source": [
        "top20 = freqs[100:120]"
      ]
    },
    {
      "cell_type": "code",
      "execution_count": null,
      "metadata": {
        "colab": {
          "base_uri": "https://localhost:8080/",
          "height": 344
        },
        "colab_type": "code",
        "id": "Jor8RFF-XYhC",
        "outputId": "a8525a2d-d762-4822-dafb-5c7031ea9518",
        "vscode": {
          "languageId": "python"
        }
      },
      "outputs": [],
      "source": [
        "plt.bar(top20.index, top20.values)\n",
        "plt.xticks(rotation=70)\n",
        "plt.show()"
      ]
    },
    {
      "cell_type": "code",
      "execution_count": null,
      "metadata": {
        "colab": {
          "base_uri": "https://localhost:8080/",
          "height": 386
        },
        "colab_type": "code",
        "id": "_6bTNmMYXYoY",
        "outputId": "582b8416-10d6-4418-c48e-a86aa0471d8a",
        "vscode": {
          "languageId": "python"
        }
      },
      "outputs": [],
      "source": [
        "least20 = freqs[-20:]\n",
        "least20"
      ]
    },
    {
      "cell_type": "code",
      "execution_count": null,
      "metadata": {
        "colab": {},
        "colab_type": "code",
        "id": "g0vOFMPvXYmJ",
        "vscode": {
          "languageId": "python"
        }
      },
      "outputs": [],
      "source": [
        "bigram = kgp.get_ngram(tweet, 'text', ngram_range=2)"
      ]
    },
    {
      "cell_type": "code",
      "execution_count": null,
      "metadata": {
        "colab": {
          "base_uri": "https://localhost:8080/",
          "height": 369
        },
        "colab_type": "code",
        "id": "SRo6FOTlXX7d",
        "outputId": "19bafa63-d65d-4e69-c81e-1a7fd0a57b34",
        "vscode": {
          "languageId": "python"
        }
      },
      "outputs": [],
      "source": [
        "bigram[-20:]"
      ]
    },
    {
      "cell_type": "markdown",
      "metadata": {
        "colab_type": "text",
        "id": "A5yjp4UPjTV0"
      },
      "source": [
        "### One-Shot Data Cleaning"
      ]
    },
    {
      "cell_type": "code",
      "execution_count": null,
      "metadata": {
        "colab": {},
        "colab_type": "code",
        "id": "Ejg2FQd_jrJc",
        "vscode": {
          "languageId": "python"
        }
      },
      "outputs": [],
      "source": [
        "def get_clean(x):\n",
        "    x = str(x).lower().replace('\\\\', ' ').replace('_', ' ').replace('.', ' ')\n",
        "    x = kgp.cont_exp(x)\n",
        "    x = kgp.remove_emails(x)\n",
        "    x = kgp.remove_urls(x)\n",
        "    x = kgp.remove_html_tags(x)\n",
        "    x = kgp.remove_rt(x)\n",
        "    x = kgp.remove_accented_chars(x)\n",
        "    x = kgp.remove_special_chars(x)\n",
        "    x = kgp.remove_dups_char(x)\n",
        "    return x"
      ]
    },
    {
      "cell_type": "code",
      "execution_count": null,
      "metadata": {
        "colab": {},
        "colab_type": "code",
        "id": "lFa1wSmzjSlJ",
        "vscode": {
          "languageId": "python"
        }
      },
      "outputs": [],
      "source": [
        "tweet['text'] = tweet['text'].apply(lambda x: get_clean(x))"
      ]
    },
    {
      "cell_type": "code",
      "execution_count": null,
      "metadata": {
        "colab": {
          "base_uri": "https://localhost:8080/",
          "height": 122
        },
        "colab_type": "code",
        "id": "OxMEKFfdjU7z",
        "outputId": "f69768cd-c553-4189-9765-1ffae4d4b8ec",
        "vscode": {
          "languageId": "python"
        }
      },
      "outputs": [],
      "source": [
        "tweet.head()['text']"
      ]
    },
    {
      "cell_type": "code",
      "execution_count": null,
      "metadata": {
        "colab": {},
        "colab_type": "code",
        "id": "IKRqmKPZjVBz",
        "vscode": {
          "languageId": "python"
        }
      },
      "outputs": [],
      "source": [
        "# kgp.get_ngram(tweet, 'text', ngram_range=2)"
      ]
    },
    {
      "cell_type": "markdown",
      "metadata": {
        "colab_type": "text",
        "id": "8aFr1jP-k2GE"
      },
      "source": [
        "### Disaster Words Visualization with Word Cloud\n",
        "\n"
      ]
    },
    {
      "cell_type": "code",
      "execution_count": null,
      "metadata": {
        "colab": {
          "base_uri": "https://localhost:8080/",
          "height": 176
        },
        "colab_type": "code",
        "id": "7Wm0XCdcjVSB",
        "outputId": "8987e343-6891-4a9f-9e02-352b63e9ccd4",
        "vscode": {
          "languageId": "python"
        }
      },
      "outputs": [],
      "source": [
        "real = kgp.get_word_freqs(tweet[tweet['target']==1], 'text')\n",
        "real = ' '.join(real.index)\n",
        "real"
      ]
    },
    {
      "cell_type": "code",
      "execution_count": null,
      "metadata": {
        "colab": {
          "base_uri": "https://localhost:8080/",
          "height": 274
        },
        "colab_type": "code",
        "id": "J396dpwpjVVk",
        "outputId": "415ec7ea-8a08-4446-d05d-b5d44de9e542",
        "vscode": {
          "languageId": "python"
        }
      },
      "outputs": [],
      "source": [
        "word_cloud = WordCloud(max_font_size=100).generate(real)\n",
        "plt.imshow(word_cloud)\n",
        "plt.axis('off')\n",
        "plt.show()"
      ]
    },
    {
      "cell_type": "code",
      "execution_count": null,
      "metadata": {
        "colab": {
          "base_uri": "https://localhost:8080/",
          "height": 274
        },
        "colab_type": "code",
        "id": "FJxxhqoNjVPx",
        "outputId": "2a0279c6-69dd-436b-9222-d7d6561a8e69",
        "vscode": {
          "languageId": "python"
        }
      },
      "outputs": [],
      "source": [
        "# not real plot\n",
        "\n",
        "nreal = kgp.get_word_freqs(tweet[tweet['target']==0], 'text')\n",
        "nreal = ' '.join(nreal.index)\n",
        "word_cloud = WordCloud(max_font_size=100).generate(nreal)\n",
        "plt.imshow(word_cloud)\n",
        "plt.axis('off')\n",
        "plt.show()"
      ]
    },
    {
      "cell_type": "markdown",
      "metadata": {
        "colab_type": "text",
        "id": "RBg1IKkIm0dx"
      },
      "source": [
        "## Classification with TFIDF and SVM\n"
      ]
    },
    {
      "cell_type": "code",
      "execution_count": null,
      "metadata": {
        "colab": {},
        "colab_type": "code",
        "id": "TsoAsgtijVNc",
        "vscode": {
          "languageId": "python"
        }
      },
      "outputs": [],
      "source": [
        "text = tweet['text']\n",
        "y = tweet['target']"
      ]
    },
    {
      "cell_type": "code",
      "execution_count": null,
      "metadata": {
        "colab": {},
        "colab_type": "code",
        "id": "IqUyAjdtjVKI",
        "vscode": {
          "languageId": "python"
        }
      },
      "outputs": [],
      "source": [
        "tfidf = TfidfVectorizer()\n",
        "X = tfidf.fit_transform(text)"
      ]
    },
    {
      "cell_type": "code",
      "execution_count": null,
      "metadata": {
        "colab": {
          "base_uri": "https://localhost:8080/",
          "height": 34
        },
        "colab_type": "code",
        "id": "DxhMSjMNjVIF",
        "outputId": "771cb158-da19-4479-ad9a-d7b84237e929",
        "vscode": {
          "languageId": "python"
        }
      },
      "outputs": [],
      "source": [
        "X.shape"
      ]
    },
    {
      "cell_type": "code",
      "execution_count": null,
      "metadata": {
        "colab": {},
        "colab_type": "code",
        "id": "z5kHtV3RjVGp",
        "vscode": {
          "languageId": "python"
        }
      },
      "outputs": [],
      "source": [
        "X_train, X_test, y_train, y_test = train_test_split(X, y, test_size=0.2, random_state=0, stratify=y)"
      ]
    },
    {
      "cell_type": "code",
      "execution_count": null,
      "metadata": {
        "colab": {},
        "colab_type": "code",
        "id": "L4sklVSLjU_S",
        "vscode": {
          "languageId": "python"
        }
      },
      "outputs": [],
      "source": [
        "def run_SVM(clf, X_train, X_test, y_train, y_test):\n",
        "  clf.fit(X_train, y_train)\n",
        "  y_pred = clf.predict(X_test)\n",
        "\n",
        "  print()\n",
        "  print('Classification Report')\n",
        "  print(classification_report(y_test, y_pred))"
      ]
    },
    {
      "cell_type": "code",
      "execution_count": null,
      "metadata": {
        "colab": {},
        "colab_type": "code",
        "id": "oAU_XKGIoBc4",
        "vscode": {
          "languageId": "python"
        }
      },
      "outputs": [],
      "source": [
        "from sklearn.svm import LinearSVC"
      ]
    },
    {
      "cell_type": "code",
      "execution_count": null,
      "metadata": {
        "colab": {
          "base_uri": "https://localhost:8080/",
          "height": 210
        },
        "colab_type": "code",
        "id": "L0aQgjyUoBal",
        "outputId": "e118b1fb-2c53-42d3-e606-2f778d778254",
        "vscode": {
          "languageId": "python"
        }
      },
      "outputs": [],
      "source": [
        "clf = LinearSVC()\n",
        "run_SVM(clf, X_train, X_test, y_train, y_test)"
      ]
    },
    {
      "cell_type": "markdown",
      "metadata": {
        "colab_type": "text",
        "id": "BnMqhmN-pPZu"
      },
      "source": [
        "## Classification with `Word2Vec` and SVM\n"
      ]
    },
    {
      "cell_type": "code",
      "execution_count": null,
      "metadata": {
        "colab": {
          "base_uri": "https://localhost:8080/",
          "height": 600
        },
        "colab_type": "code",
        "id": "SYiM9VR0oBYG",
        "outputId": "e849dd9f-2d3e-4f4a-9a81-873a5516cc5c",
        "vscode": {
          "languageId": "python"
        }
      },
      "outputs": [],
      "source": [
        "!python -m spacy download en_core_web_lg"
      ]
    },
    {
      "cell_type": "code",
      "execution_count": null,
      "metadata": {
        "colab": {},
        "colab_type": "code",
        "id": "mMveK1bApZtE",
        "vscode": {
          "languageId": "python"
        }
      },
      "outputs": [],
      "source": [
        "import spacy\n",
        "import en_core_web_lg"
      ]
    },
    {
      "cell_type": "code",
      "execution_count": null,
      "metadata": {
        "colab": {},
        "colab_type": "code",
        "id": "8cxv1WZVpZ5a",
        "vscode": {
          "languageId": "python"
        }
      },
      "outputs": [],
      "source": [
        "nlp = en_core_web_lg.load()"
      ]
    },
    {
      "cell_type": "code",
      "execution_count": null,
      "metadata": {
        "colab": {},
        "colab_type": "code",
        "id": "VmichYQapZ2v",
        "vscode": {
          "languageId": "python"
        }
      },
      "outputs": [],
      "source": [
        "x = 'cat dog'\n",
        "doc = nlp(x)"
      ]
    },
    {
      "cell_type": "code",
      "execution_count": null,
      "metadata": {
        "colab": {
          "base_uri": "https://localhost:8080/",
          "height": 34
        },
        "colab_type": "code",
        "id": "J8OYZsgnpZyv",
        "outputId": "7f300b9d-9086-4472-a43e-dac88961fe42",
        "vscode": {
          "languageId": "python"
        }
      },
      "outputs": [],
      "source": [
        "doc.vector.shape"
      ]
    },
    {
      "cell_type": "code",
      "execution_count": null,
      "metadata": {
        "colab": {},
        "colab_type": "code",
        "id": "tSUP-RhPoBUi",
        "vscode": {
          "languageId": "python"
        }
      },
      "outputs": [],
      "source": [
        "def get_vec(x):\n",
        "  doc = nlp(x)\n",
        "  vec = doc.vector\n",
        "  return vec"
      ]
    },
    {
      "cell_type": "code",
      "execution_count": null,
      "metadata": {
        "colab": {},
        "colab_type": "code",
        "id": "e3JTfZSsoBPX",
        "vscode": {
          "languageId": "python"
        }
      },
      "outputs": [],
      "source": [
        "tweet['vec'] = tweet['text'].apply(lambda x: get_vec(x))"
      ]
    },
    {
      "cell_type": "code",
      "execution_count": null,
      "metadata": {
        "colab": {
          "base_uri": "https://localhost:8080/",
          "height": 513
        },
        "colab_type": "code",
        "id": "OrSVUuf7jSJ7",
        "outputId": "1cbf4118-4411-4b61-e1eb-c358a81e34ae",
        "vscode": {
          "languageId": "python"
        }
      },
      "outputs": [],
      "source": [
        "tweet.head()"
      ]
    },
    {
      "cell_type": "code",
      "execution_count": null,
      "metadata": {
        "colab": {},
        "colab_type": "code",
        "id": "MWYs9Fw0WxEc",
        "vscode": {
          "languageId": "python"
        }
      },
      "outputs": [],
      "source": [
        "X = tweet['vec'].to_numpy()\n",
        "X = X.reshape(-1, 1)"
      ]
    },
    {
      "cell_type": "code",
      "execution_count": null,
      "metadata": {
        "colab": {
          "base_uri": "https://localhost:8080/",
          "height": 34
        },
        "colab_type": "code",
        "id": "_dSn3LP9sDjy",
        "outputId": "02af9921-8125-402b-d565-44628ba5b123",
        "vscode": {
          "languageId": "python"
        }
      },
      "outputs": [],
      "source": [
        "X.shape"
      ]
    },
    {
      "cell_type": "code",
      "execution_count": null,
      "metadata": {
        "colab": {},
        "colab_type": "code",
        "id": "sUBdrXTusECS",
        "vscode": {
          "languageId": "python"
        }
      },
      "outputs": [],
      "source": [
        "X = np.concatenate(np.concatenate(X, axis=0), axis=0).reshape(-1, 300)"
      ]
    },
    {
      "cell_type": "code",
      "execution_count": null,
      "metadata": {
        "colab": {
          "base_uri": "https://localhost:8080/",
          "height": 34
        },
        "colab_type": "code",
        "id": "OMipt8jlsiih",
        "outputId": "5af97f06-c982-4463-a994-aa744af06b80",
        "vscode": {
          "languageId": "python"
        }
      },
      "outputs": [],
      "source": [
        "X.shape"
      ]
    },
    {
      "cell_type": "code",
      "execution_count": null,
      "metadata": {
        "colab": {},
        "colab_type": "code",
        "id": "3j70lVdRsidQ",
        "vscode": {
          "languageId": "python"
        }
      },
      "outputs": [],
      "source": [
        "y = tweet['target']"
      ]
    },
    {
      "cell_type": "code",
      "execution_count": null,
      "metadata": {
        "colab": {},
        "colab_type": "code",
        "id": "65LhlnItsiYZ",
        "vscode": {
          "languageId": "python"
        }
      },
      "outputs": [],
      "source": [
        "X_train, X_test, y_train, y_test = train_test_split(X, y, test_size=0.2, random_state=0, stratify=y)"
      ]
    },
    {
      "cell_type": "code",
      "execution_count": null,
      "metadata": {
        "colab": {
          "base_uri": "https://localhost:8080/",
          "height": 246
        },
        "colab_type": "code",
        "id": "BTPHASe6siO_",
        "outputId": "99d76be4-a3af-425f-efc9-774d545e2d08",
        "vscode": {
          "languageId": "python"
        }
      },
      "outputs": [],
      "source": [
        "%%time\n",
        "clf = LinearSVC()\n",
        "run_SVM(clf, X_train, X_test, y_train, y_test)"
      ]
    },
    {
      "cell_type": "markdown",
      "metadata": {
        "colab_type": "text",
        "id": "yvfHLK0wtS8E"
      },
      "source": [
        "## Word Embeddings and Classification with Deep Learning\n"
      ]
    },
    {
      "cell_type": "code",
      "execution_count": null,
      "metadata": {
        "colab": {},
        "colab_type": "code",
        "id": "U_1U_UbWsiK5",
        "vscode": {
          "languageId": "python"
        }
      },
      "outputs": [],
      "source": [
        "from tensorflow.keras.preprocessing.text import Tokenizer\n",
        "from tensorflow.keras.preprocessing.sequence import pad_sequences\n",
        "from tensorflow.keras.models import Sequential\n",
        "from tensorflow.keras.layers import Dense,Flatten,Embedding,Dropout\n",
        "from tensorflow.keras.layers import Conv1D, MaxPooling1D, GlobalMaxPooling1D "
      ]
    },
    {
      "cell_type": "code",
      "execution_count": null,
      "metadata": {
        "colab": {
          "base_uri": "https://localhost:8080/",
          "height": 228
        },
        "colab_type": "code",
        "id": "Paresstvv5ai",
        "outputId": "563ccac5-9e92-4048-d490-12a0a533352c",
        "vscode": {
          "languageId": "python"
        }
      },
      "outputs": [],
      "source": [
        "text"
      ]
    },
    {
      "cell_type": "code",
      "execution_count": null,
      "metadata": {
        "colab": {},
        "colab_type": "code",
        "id": "BdzHMbkxsiGf",
        "vscode": {
          "languageId": "python"
        }
      },
      "outputs": [],
      "source": [
        "token = Tokenizer()\n",
        "token.fit_on_texts(text)"
      ]
    },
    {
      "cell_type": "code",
      "execution_count": null,
      "metadata": {
        "colab": {
          "base_uri": "https://localhost:8080/",
          "height": 34
        },
        "colab_type": "code",
        "id": "1hv_UVIDsiCk",
        "outputId": "fef6b4d1-5264-4d32-f26c-d2c1c524d4cb",
        "vscode": {
          "languageId": "python"
        }
      },
      "outputs": [],
      "source": [
        "vocab_size = len(token.word_index) + 1\n",
        "vocab_size"
      ]
    },
    {
      "cell_type": "code",
      "execution_count": null,
      "metadata": {
        "colab": {
          "base_uri": "https://localhost:8080/",
          "height": 54
        },
        "colab_type": "code",
        "id": "ikY62qwesh-U",
        "outputId": "9dcdafc9-c58e-489b-d253-776d65a03da0",
        "vscode": {
          "languageId": "python"
        }
      },
      "outputs": [],
      "source": [
        "print(token.word_index)"
      ]
    },
    {
      "cell_type": "code",
      "execution_count": null,
      "metadata": {
        "colab": {},
        "colab_type": "code",
        "id": "fYv2QoDAsh6j",
        "vscode": {
          "languageId": "python"
        }
      },
      "outputs": [],
      "source": [
        "encoded_text = token.texts_to_sequences(text)"
      ]
    },
    {
      "cell_type": "code",
      "execution_count": null,
      "metadata": {
        "colab": {
          "base_uri": "https://localhost:8080/",
          "height": 54
        },
        "colab_type": "code",
        "id": "edNmAn38wYsF",
        "outputId": "2501537e-3657-4fd0-9924-31a16b0d093f",
        "vscode": {
          "languageId": "python"
        }
      },
      "outputs": [],
      "source": [
        "print(encoded_text)"
      ]
    },
    {
      "cell_type": "code",
      "execution_count": null,
      "metadata": {
        "colab": {},
        "colab_type": "code",
        "id": "zQZDux25wcaG",
        "vscode": {
          "languageId": "python"
        }
      },
      "outputs": [],
      "source": [
        "max_length = 40\n",
        "X = pad_sequences(encoded_text, maxlen=max_length, padding='post')"
      ]
    },
    {
      "cell_type": "code",
      "execution_count": null,
      "metadata": {
        "colab": {
          "base_uri": "https://localhost:8080/",
          "height": 140
        },
        "colab_type": "code",
        "id": "3jowr3NnxFmj",
        "outputId": "9548a89d-0d9d-4867-abff-c8154dcdf023",
        "vscode": {
          "languageId": "python"
        }
      },
      "outputs": [],
      "source": [
        "print(X)"
      ]
    },
    {
      "cell_type": "code",
      "execution_count": null,
      "metadata": {
        "colab": {
          "base_uri": "https://localhost:8080/",
          "height": 34
        },
        "colab_type": "code",
        "id": "1LkRysrnxGnU",
        "outputId": "aee1c1be-2805-4eea-8b80-f2191337e5bd",
        "vscode": {
          "languageId": "python"
        }
      },
      "outputs": [],
      "source": [
        "X.shape"
      ]
    },
    {
      "cell_type": "code",
      "execution_count": null,
      "metadata": {
        "colab": {},
        "colab_type": "code",
        "id": "DzB5JeavxRsR",
        "vscode": {
          "languageId": "python"
        }
      },
      "outputs": [],
      "source": []
    },
    {
      "cell_type": "code",
      "execution_count": null,
      "metadata": {
        "colab": {},
        "colab_type": "code",
        "id": "Oegr3RzmxiEw",
        "vscode": {
          "languageId": "python"
        }
      },
      "outputs": [],
      "source": [
        "X_train, X_test, y_train, y_test = train_test_split(X, y, test_size=0.2, random_state=0, stratify=y)"
      ]
    },
    {
      "cell_type": "code",
      "execution_count": null,
      "metadata": {
        "colab": {
          "base_uri": "https://localhost:8080/",
          "height": 52
        },
        "colab_type": "code",
        "id": "JQS9b9FsxiE8",
        "outputId": "a45ed31a-9f4e-499a-a529-877c39f07ccf",
        "vscode": {
          "languageId": "python"
        }
      },
      "outputs": [],
      "source": [
        "%%time\n",
        "# clf = LinearSVC()\n",
        "# run_SVM(clf, X_train, X_test, y_train, y_test)"
      ]
    },
    {
      "cell_type": "code",
      "execution_count": null,
      "metadata": {
        "colab": {},
        "colab_type": "code",
        "id": "3wmeGVkZxSKL",
        "vscode": {
          "languageId": "python"
        }
      },
      "outputs": [],
      "source": [
        "vec_size = 100\n",
        "\n",
        "model = Sequential()\n",
        "model.add(Embedding(vocab_size, vec_size, input_length=max_length))\n",
        "\n",
        "model.add(Conv1D(32, 2, activation='relu'))\n",
        "model.add(MaxPooling1D(2))\n",
        "model.add(Dropout(0.5))\n",
        "\n",
        "model.add(Dense(32, activation='relu'))\n",
        "model.add(Dropout(0.5))\n",
        "\n",
        "model.add(Dense(16, activation='relu'))\n",
        "\n",
        "model.add(GlobalMaxPooling1D())\n",
        "\n",
        "model.add(Dense(1, activation='sigmoid'))"
      ]
    },
    {
      "cell_type": "code",
      "execution_count": null,
      "metadata": {
        "colab": {
          "base_uri": "https://localhost:8080/",
          "height": 474
        },
        "colab_type": "code",
        "id": "ENsQNKVgxSkw",
        "outputId": "98ad380a-8f57-44a9-a7b7-530306494683",
        "vscode": {
          "languageId": "python"
        }
      },
      "outputs": [],
      "source": [
        "model.summary()"
      ]
    },
    {
      "cell_type": "code",
      "execution_count": null,
      "metadata": {
        "colab": {
          "base_uri": "https://localhost:8080/",
          "height": 248
        },
        "colab_type": "code",
        "id": "OQwro_QGxR2c",
        "outputId": "867f107e-45a8-4757-c21e-ee779cfe1567",
        "vscode": {
          "languageId": "python"
        }
      },
      "outputs": [],
      "source": [
        "%%time\n",
        "model.compile(optimizer='adam', loss='binary_crossentropy', metrics=['accuracy'])\n",
        "model.fit(X_train, y_train, epochs=5, validation_data=(X_test, y_test))"
      ]
    },
    {
      "cell_type": "code",
      "execution_count": null,
      "metadata": {
        "colab": {},
        "colab_type": "code",
        "id": "U64AbOlPxJcL",
        "vscode": {
          "languageId": "python"
        }
      },
      "outputs": [],
      "source": [
        "def get_encoded(x):\n",
        "  x = get_clean(x)\n",
        "  x = token.texts_to_sequences([x])\n",
        "  x = pad_sequences(x, maxlen=max_length, padding='post')\n",
        "  return x"
      ]
    },
    {
      "cell_type": "code",
      "execution_count": null,
      "metadata": {
        "colab": {},
        "colab_type": "code",
        "id": "iOYxaATBz1QU",
        "vscode": {
          "languageId": "python"
        }
      },
      "outputs": [],
      "source": [
        "x = 'i am thrilled to see this'\n",
        "vec = get_encoded(x)"
      ]
    },
    {
      "cell_type": "code",
      "execution_count": null,
      "metadata": {
        "colab": {
          "base_uri": "https://localhost:8080/",
          "height": 70
        },
        "colab_type": "code",
        "id": "xmHW1fXz0PEq",
        "outputId": "2f522d2f-14b7-465a-e15e-3419865b873a",
        "vscode": {
          "languageId": "python"
        }
      },
      "outputs": [],
      "source": [
        "vec"
      ]
    },
    {
      "cell_type": "code",
      "execution_count": null,
      "metadata": {
        "colab": {
          "base_uri": "https://localhost:8080/",
          "height": 34
        },
        "colab_type": "code",
        "id": "FS7TkcU3z9Mc",
        "outputId": "8d7db4c6-3329-4294-89f8-5e7923f561e1",
        "vscode": {
          "languageId": "python"
        }
      },
      "outputs": [],
      "source": [
        "np.argmax(model.predict(vec), axis = -1)"
      ]
    },
    {
      "cell_type": "code",
      "execution_count": null,
      "metadata": {
        "colab": {},
        "colab_type": "code",
        "id": "gMnAvLxx0HSC",
        "vscode": {
          "languageId": "python"
        }
      },
      "outputs": [],
      "source": []
    },
    {
      "attachments": {},
      "cell_type": "markdown",
      "metadata": {},
      "source": [
        "# Other Resources\n",
        "|  ML Course | Description |\n",
        "|:---|:---|\n",
        "| [**Data Visualization in Python Masterclass™: Beginners to Pro**](https://bit.ly/udemy95off_kgptalkie) |  Learn to build Machine Learning and Deep Learning models using Python and its libraries like Scikit-Learn, Keras, and TensorFlow. |\n",
        "| [**Python for Machine Learning: A Step-by-Step Guide**](https://bit.ly/ml-ds-project) | Learn to build Machine Learning and Deep Learning models using Python and its libraries like Scikit-Learn, Keras, and TensorFlow. |\n",
        "| [**Python for Linear Regression in Machine Learning**](https://bit.ly/regression-python) | Learn to build Linear Regression models using Python and its libraries like Scikit-Learn. |\n",
        "| [**Introduction to Spacy 3 for Natural Language Processing**](https://bit.ly/spacy-intro) | Learn to build Natural Language Processing models using Python and its libraries like Spacy. |\n",
        "| [**Advanced Machine Learning and Deep Learning Projects**](https://bit.ly/kgptalkie_ml_projects) | Learn to build Advanced Machine Learning and Deep Learning models using Python and transformer models like BERT, GPT-2, and XLNet. |\n",
        "| [**Natural Language Processing in Python for Beginners**](https://bit.ly/intro_nlp) | Learn to build Natural Language Processing Projects using Spacy, NLTK, and Gensim, and transformer models like BERT, GPT-2, and XLNet. |\n",
        "| [**Deployment of Machine Learning Models in Production in Python**](https://bit.ly/bert_nlp) |  Learn to deploy Machine Learning and Deep Learning models using Python and its libraries like Flask, Streamlit, and NGINX. |\n",
        "| [**R 4.0 Programming for Data Science - Beginners to Pro**](https://bit.ly/r4-ml) | Learn to build Machine Learning and Deep Learning models using R and its libraries like caret, tidyverse, and keras. |\n"
      ]
    },
    {
      "cell_type": "code",
      "execution_count": null,
      "metadata": {
        "colab": {},
        "colab_type": "code",
        "id": "eL1Vpy510imc",
        "vscode": {
          "languageId": "python"
        }
      },
      "outputs": [],
      "source": []
    },
    {
      "cell_type": "code",
      "execution_count": null,
      "metadata": {
        "colab": {},
        "colab_type": "code",
        "id": "ULRsuGy20ifk",
        "vscode": {
          "languageId": "python"
        }
      },
      "outputs": [],
      "source": []
    },
    {
      "cell_type": "code",
      "execution_count": null,
      "metadata": {
        "colab": {},
        "colab_type": "code",
        "id": "wU2OCmlT0icC",
        "vscode": {
          "languageId": "python"
        }
      },
      "outputs": [],
      "source": []
    }
  ],
  "metadata": {
    "accelerator": "GPU",
    "colab": {
      "name": "Real or Not? Disaster Tweets Classifications",
      "provenance": []
    },
    "kernelspec": {
      "display_name": "Python 3",
      "name": "python3"
    }
  },
  "nbformat": 4,
  "nbformat_minor": 0
}
